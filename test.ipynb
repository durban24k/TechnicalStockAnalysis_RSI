{
 "metadata": {
  "language_info": {
   "codemirror_mode": {
    "name": "ipython",
    "version": 3
   },
   "file_extension": ".py",
   "mimetype": "text/x-python",
   "name": "python",
   "nbconvert_exporter": "python",
   "pygments_lexer": "ipython3",
   "version": "3.8.3-final"
  },
  "orig_nbformat": 2,
  "kernelspec": {
   "name": "Python 3.8.3 64-bit ('base': conda)",
   "display_name": "Python 3.8.3 64-bit ('base': conda)",
   "metadata": {
    "interpreter": {
     "hash": "b3ba2566441a7c06988d0923437866b63cedc61552a5af99d1f4fb67d367b25f"
    }
   }
  }
 },
 "nbformat": 4,
 "nbformat_minor": 2,
 "cells": [
  {
   "cell_type": "code",
   "execution_count": 5,
   "metadata": {},
   "outputs": [],
   "source": [
    "import websocket, numpy as np,json,pprint,talib,pandas as pd,matplotlib.pyplot as plt\n",
    "from datetime import datetime"
   ]
  },
  {
   "cell_type": "code",
   "execution_count": 6,
   "metadata": {},
   "outputs": [],
   "source": [
    "SOCKET=\"wss://stream.binance.com:9443/ws/ethusdt@kline_1m\""
   ]
  },
  {
   "cell_type": "code",
   "execution_count": 7,
   "metadata": {},
   "outputs": [],
   "source": [
    "def on_open(ws):\n",
    "     print('Connection Open') \n",
    "\n",
    "def on_close(ws):\n",
    "     print(\"Connection Closed\")"
   ]
  },
  {
   "cell_type": "code",
   "execution_count": 8,
   "metadata": {},
   "outputs": [],
   "source": [
    "def on_message(ws,message):\n",
    "    json_message=json.loads(message)\n",
    "    close=json_message['k']['c']\n",
    "    epoch_time=json_message['E']\n",
    "    dt_time=datetime.fromtimestamp(epoch_time/1000)\n",
    "    data=pd.DataFrame()\n",
    "    data['Time']=dt_time.time()\n",
    "    data['Close']=close\n",
    "\n",
    "    ax.plot(data['Time'],data['Close'],color='lightgray')\n",
    "    ax.set_title(\"Adjusted Close Price\",color=\"white\")"
   ]
  },
  {
   "cell_type": "code",
   "execution_count": 9,
   "metadata": {},
   "outputs": [
    {
     "output_type": "stream",
     "name": "stdout",
     "text": [
      "Connection Open\n",
      "Connection Closed\n"
     ]
    }
   ],
   "source": [
    "ws=websocket.WebSocketApp(SOCKET,on_open=on_open,on_close=on_close,on_message=on_message)\n",
    "ws.run_forever()\n",
    "plt.show()"
   ]
  }
 ]
}