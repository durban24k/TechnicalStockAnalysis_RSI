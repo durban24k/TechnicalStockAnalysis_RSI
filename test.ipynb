{
 "metadata": {
  "language_info": {
   "codemirror_mode": {
    "name": "ipython",
    "version": 3
   },
   "file_extension": ".py",
   "mimetype": "text/x-python",
   "name": "python",
   "nbconvert_exporter": "python",
   "pygments_lexer": "ipython3",
   "version": "3.8.3-final"
  },
  "orig_nbformat": 2,
  "kernelspec": {
   "name": "Python 3.8.3 64-bit ('base': conda)",
   "display_name": "Python 3.8.3 64-bit ('base': conda)",
   "metadata": {
    "interpreter": {
     "hash": "b3ba2566441a7c06988d0923437866b63cedc61552a5af99d1f4fb67d367b25f"
    }
   }
  }
 },
 "nbformat": 4,
 "nbformat_minor": 2,
 "cells": [
  {
   "cell_type": "code",
   "execution_count": 82,
   "metadata": {},
   "outputs": [],
   "source": [
    "import websocket, numpy as np,json,pprint,talib,datetime"
   ]
  },
  {
   "cell_type": "code",
   "execution_count": null,
   "metadata": {},
   "outputs": [],
   "source": [
    "SOCKET=\"wss://stream.binance.com:9443/ws/ethusdt@kline_1m\""
   ]
  },
  {
   "cell_type": "code",
   "execution_count": 94,
   "metadata": {},
   "outputs": [],
   "source": [
    "def on_open(ws):\n",
    "     print('Connection Open') \n",
    "\n",
    "def on_close(ws):\n",
    "     print(\"Connection Closed\")"
   ]
  },
  {
   "cell_type": "code",
   "execution_count": 95,
   "metadata": {},
   "outputs": [],
   "source": [
    "def on_message(ws,message):\n",
    "    json_message=json.loads(message)\n",
    "    pprint.pprint(json_message['E'])"
   ]
  },
  {
   "cell_type": "code",
   "execution_count": 96,
   "metadata": {},
   "outputs": [
    {
     "output_type": "stream",
     "name": "stdout",
     "text": [
      "Connection Open\n",
      "1602158330763\n",
      "1602158333781\n",
      "1602158337097\n",
      "1602158345305\n",
      "1602158347835\n",
      "1602158350851\n",
      "1602158353533\n",
      "1602158361032\n",
      "Connection Closed\n"
     ]
    },
    {
     "output_type": "execute_result",
     "data": {
      "text/plain": [
       "False"
      ]
     },
     "metadata": {},
     "execution_count": 96
    }
   ],
   "source": [
    "ws=websocket.WebSocketApp(SOCKET,on_open=on_open,on_close=on_close,on_message=on_message)\n",
    "ws.run_forever()"
   ]
  },
  {
   "cell_type": "code",
   "execution_count": 81,
   "metadata": {},
   "outputs": [
    {
     "output_type": "stream",
     "name": "stdout",
     "text": [
      "2012-12-04 23:52:01\n"
     ]
    }
   ],
   "source": [
    "epoch_time=1354654321\n",
    "dat_time=datetime.datetime.fromtimestamp(epoch_time)\n",
    "print(dat_time)"
   ]
  }
 ]
}