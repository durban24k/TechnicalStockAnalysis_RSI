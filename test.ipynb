{
 "metadata": {
  "language_info": {
   "codemirror_mode": {
    "name": "ipython",
    "version": 3
   },
   "file_extension": ".py",
   "mimetype": "text/x-python",
   "name": "python",
   "nbconvert_exporter": "python",
   "pygments_lexer": "ipython3",
   "version": "3.8.3-final"
  },
  "orig_nbformat": 2,
  "kernelspec": {
   "name": "Python 3.8.3 64-bit ('base': conda)",
   "display_name": "Python 3.8.3 64-bit ('base': conda)",
   "metadata": {
    "interpreter": {
     "hash": "b3ba2566441a7c06988d0923437866b63cedc61552a5af99d1f4fb67d367b25f"
    }
   }
  }
 },
 "nbformat": 4,
 "nbformat_minor": 2,
 "cells": [
  {
   "cell_type": "code",
   "execution_count": null,
   "metadata": {},
   "outputs": [],
   "source": [
    "import websocket, numpy as np,json,pprint,talib,pandas as pd,matplotlib.pyplot as plt,matplotlib.animation as ant\n",
    "from datetime import datetime"
   ]
  },
  {
   "cell_type": "code",
   "execution_count": null,
   "metadata": {},
   "outputs": [],
   "source": [
    "SOCKET=\"wss://stream.binance.com:9443/ws/ethusdt@kline_1m\""
   ]
  },
  {
   "cell_type": "code",
   "execution_count": null,
   "metadata": {},
   "outputs": [],
   "source": [
    "def on_open(ws):\n",
    "     print('Connection Open') \n",
    "\n",
    "def on_close(ws):\n",
    "     print(\"Connection Closed\")"
   ]
  },
  {
   "cell_type": "code",
   "execution_count": 79,
   "metadata": {},
   "outputs": [
    {
     "output_type": "stream",
     "name": "stdout",
     "text": [
      "Connection Open\n",
      "Connection Closed\n"
     ]
    },
    {
     "output_type": "execute_result",
     "data": {
      "text/plain": [
       "False"
      ]
     },
     "metadata": {},
     "execution_count": 79
    }
   ],
   "source": [
    "dt_time=\"\"\n",
    "close=\"\"\n",
    "times=[]\n",
    "closes=[]\n",
    "\n",
    "def on_message(ws,message):\n",
    "    global times,closes,dt_time,close\n",
    "    json_message=json.loads(message)\n",
    "    close=json_message['k']['c']\n",
    "    dt_time=datetime.fromtimestamp(json_message['E']/1000).strftime(\"%X\")\n",
    "\n",
    "ws=websocket.WebSocketApp(SOCKET,on_open=on_open,on_close=on_close,on_message=on_message)\n",
    "ws.run_forever()"
   ]
  },
  {
   "cell_type": "code",
   "execution_count": null,
   "metadata": {
    "tags": []
   },
   "outputs": [],
   "source": [
    "fig=plt.figure()\n",
    "ax=fig.add_subplot(1,1,1)\n",
    "\n",
    "def animate(i,times,closes):\n",
    "    global dt_time,close\n",
    "    \n",
    "    times.append(dt_time)\n",
    "    closes.append(close)\n",
    "\n",
    "    times=times[-24:]\n",
    "    closes=closes[-24:]\n",
    "\n",
    "    ax.clear()\n",
    "    ax.plot(times,closes,color='lightgray')\n",
    "    plt.set_title(\"Adjusted Close Price\",color=\"white\")\n",
    "\n",
    "ani=ant.FuncAnimation(fig,animate,fargs=(times,closes),interval=2000)\n",
    "plt.show()"
   ]
  }
 ]
}